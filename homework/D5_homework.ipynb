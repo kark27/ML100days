{
 "cells": [
  {
   "cell_type": "code",
   "execution_count": 10,
   "metadata": {},
   "outputs": [
    {
     "name": "stdout",
     "output_type": "stream",
     "text": [
      "[ 1  2 -3 -4 -5 -6  7  8  9 10 11]\n"
     ]
    }
   ],
   "source": [
    "#1. 產生一個 1-11 的一維陣列，並且把 3-6 由正數變成負數。\n",
    "import numpy as np\n",
    "a = np.arange(1,12)\n",
    "\n",
    "a[(a > 2) & (a < 7)] *= -1\n",
    "\n",
    "print(a)\n"
   ]
  },
  {
   "cell_type": "code",
   "execution_count": 16,
   "metadata": {},
   "outputs": [
    {
     "name": "stdout",
     "output_type": "stream",
     "text": [
      "[[0.10148675 0.01077425 0.64223367]\n",
      " [0.77512865 0.32231552 0.85682518]]\n",
      "[0.64223367 0.77512865 0.85682518]\n",
      "3\n"
     ]
    }
   ],
   "source": [
    "#2. 試著從一個隨機陣列中，找出比 0.5 大的數有幾個？\n",
    "import numpy as np\n",
    "a = np.random.rand(2, 3)\n",
    "print(a)\n",
    "print(a[a > 0.5])\n",
    "print(a[a > 0.5].size)"
   ]
  }
 ],
 "metadata": {
  "kernelspec": {
   "display_name": "Python 3",
   "language": "python",
   "name": "python3"
  },
  "language_info": {
   "codemirror_mode": {
    "name": "ipython",
    "version": 3
   },
   "file_extension": ".py",
   "mimetype": "text/x-python",
   "name": "python",
   "nbconvert_exporter": "python",
   "pygments_lexer": "ipython3",
   "version": "3.7.6"
  }
 },
 "nbformat": 4,
 "nbformat_minor": 4
}
