{
 "cells": [
  {
   "cell_type": "code",
   "execution_count": null,
   "metadata": {},
   "outputs": [],
   "source": [
    "# 1. [簡答題] 請比較 np.zeros 和 np.empty 產生出來的陣列有何差異？為什麼要設計兩種方法？\n",
    "#zeros產生的陣列都是由0組成\n",
    "#empty產生的陣列是接近0的數字\n",
    "#np.empty可以用於只是想要初始化,之後就會覆寫數值的狀況"
   ]
  },
  {
   "cell_type": "code",
   "execution_count": 13,
   "metadata": {},
   "outputs": [
    {
     "name": "stdout",
     "output_type": "stream",
     "text": [
      "[[78. 38.  8.]\n",
      " [46. 92. 65.]]\n"
     ]
    }
   ],
   "source": [
    "# 2.在不用「整數亂數方法」的限制下，如何將包含小數的轉換整數？請將給定的 a 陣列當中的元素變成去掉小數變成整數。\n",
    "import numpy as np\n",
    "a = np.random.rand(2, 3)\n",
    "a = a * 100\n",
    "print(a.round())\n",
    "#print(np.round(a))"
   ]
  },
  {
   "cell_type": "code",
   "execution_count": 15,
   "metadata": {},
   "outputs": [
    {
     "name": "stdout",
     "output_type": "stream",
     "text": [
      "[[17.61111565  8.85276141  7.18881084]\n",
      " [ 0.18282558 15.2740277  18.77866812]]\n",
      "[[37. 28. 27.]\n",
      " [20. 35. 38.]]\n"
     ]
    }
   ],
   "source": [
    "# 3.承上題，怎樣可以限制整數的範圍介於 m - n 之間？請將給定的 a 陣列當中的元素的範圍調整成 m - n 之間。\n",
    "m = 20\n",
    "n = 40\n",
    "a = np.random.rand(2, 3)*(n - m)\n",
    "b = a \n",
    "print(a)\n",
    "print((b - a % 1) + m)\n"
   ]
  },
  {
   "cell_type": "code",
   "execution_count": null,
   "metadata": {},
   "outputs": [],
   "source": []
  }
 ],
 "metadata": {
  "kernelspec": {
   "display_name": "Python 3",
   "language": "python",
   "name": "python3"
  },
  "language_info": {
   "codemirror_mode": {
    "name": "ipython",
    "version": 3
   },
   "file_extension": ".py",
   "mimetype": "text/x-python",
   "name": "python",
   "nbconvert_exporter": "python",
   "pygments_lexer": "ipython3",
   "version": "3.7.6"
  }
 },
 "nbformat": 4,
 "nbformat_minor": 4
}
