{
 "cells": [
  {
   "cell_type": "code",
   "execution_count": 28,
   "metadata": {},
   "outputs": [
    {
     "data": {
      "text/plain": [
       "0.0074452999999721214"
      ]
     },
     "execution_count": 28,
     "metadata": {},
     "output_type": "execute_result"
    }
   ],
   "source": [
    "#1請比較對一個 100 x 100 * 100 的陣列，使用不同方法對每一個元素 +1 的時間比較。\n",
    "import numpy as np\n",
    "import timeit\n",
    "\n",
    "a = np.arange(1000000).reshape(100,100,100)\n",
    "\n",
    "#1\n",
    "for i in a:\n",
    "    for j in i:\n",
    "        for k in j:\n",
    "            i = i + 1\n",
    "timeit.timeit()"
   ]
  },
  {
   "cell_type": "code",
   "execution_count": 25,
   "metadata": {},
   "outputs": [
    {
     "data": {
      "text/plain": [
       "0.00724820000004911"
      ]
     },
     "execution_count": 25,
     "metadata": {},
     "output_type": "execute_result"
    }
   ],
   "source": [
    "#2\n",
    "for j in a.flat:\n",
    "    j = j + 1\n",
    "timeit.timeit()"
   ]
  },
  {
   "cell_type": "code",
   "execution_count": 26,
   "metadata": {},
   "outputs": [
    {
     "data": {
      "text/plain": [
       "0.010330199999998513"
      ]
     },
     "execution_count": 26,
     "metadata": {},
     "output_type": "execute_result"
    }
   ],
   "source": [
    "#3\n",
    "for k in np.nditer(a):\n",
    "    k = k + 1\n",
    "timeit.timeit()"
   ]
  },
  {
   "cell_type": "code",
   "execution_count": 37,
   "metadata": {},
   "outputs": [
    {
     "name": "stdout",
     "output_type": "stream",
     "text": [
      "[4 0 3 7 8 2 6 6 3 9 1 7 7 6 2 6 3 2 1 1 4 3 7 7 6 0 7 3 5 9 3 1 6 3 9 0 5\n",
      " 0 0 4 6 1 1 2 4 4 2 6 3 3]\n",
      "[5 6 5 9 5 2 8 6 1 3]\n",
      "3\n"
     ]
    },
    {
     "data": {
      "text/plain": [
       "(array([ 2,  8, 16, 21, 27, 30, 33, 48, 49], dtype=int64),)"
      ]
     },
     "execution_count": 37,
     "metadata": {},
     "output_type": "execute_result"
    }
   ],
   "source": [
    "#2.如何從一個陣列中，找出出現頻率最高的數值與位置？\n",
    "import numpy as np\n",
    "\n",
    "a = np.random.randint(0, 10, 50)\n",
    "print(a)\n",
    "\n",
    "b = np.bincount(a) #每一個索引值出現幾次\n",
    "print(b)\n",
    "\n",
    "c = np.bincount(a).argmax() #找出最大值的索引值\n",
    "print(c)\n",
    "\n",
    "np.where(a == c) #最大值的位置"
   ]
  },
  {
   "cell_type": "code",
   "execution_count": 38,
   "metadata": {},
   "outputs": [
    {
     "name": "stdout",
     "output_type": "stream",
     "text": [
      "[9, 2, 6, 5, 2, 3]\n",
      "[[7, 0, 4, 1], [2, 9, 5, 1], [4, 3, 2, 5]]\n",
      "[[[7, 6], [0, 1], [3, 3]], [[8, 6], [6, 7], [1, 5]]]\n"
     ]
    }
   ],
   "source": [
    "#3.如何利用 list(...) 實現 a.tolist() 的效果？試著用程式實作。\n",
    "import numpy as np\n",
    "a = np.random.randint(10, size=6) \n",
    "b = np.random.randint(10, size=(3,4)) \n",
    "c = np.random.randint(10, size=(2,3,2))\n",
    "\n",
    "def tolist(iterable):\n",
    "    if type(iterable) != np.ndarray:\n",
    "        return iterable\n",
    "    return [tolist(obj) for obj in iterable]\n",
    "\n",
    "print(tolist(a))\n",
    "print(tolist(b))\n",
    "print(tolist(c))"
   ]
  },
  {
   "cell_type": "code",
   "execution_count": null,
   "metadata": {},
   "outputs": [],
   "source": []
  }
 ],
 "metadata": {
  "kernelspec": {
   "display_name": "Python 3",
   "language": "python",
   "name": "python3"
  },
  "language_info": {
   "codemirror_mode": {
    "name": "ipython",
    "version": 3
   },
   "file_extension": ".py",
   "mimetype": "text/x-python",
   "name": "python",
   "nbconvert_exporter": "python",
   "pygments_lexer": "ipython3",
   "version": "3.7.6"
  }
 },
 "nbformat": 4,
 "nbformat_minor": 4
}
