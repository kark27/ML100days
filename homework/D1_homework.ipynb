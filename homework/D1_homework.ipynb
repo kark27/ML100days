{
 "cells": [
  {
   "cell_type": "code",
   "execution_count": 2,
   "metadata": {},
   "outputs": [
    {
     "name": "stdout",
     "output_type": "stream",
     "text": [
      "List(a): [9, 7, 2, 8, 9, 7]\n",
      "tolist(): [9, 7, 2, 8, 9, 7]\n",
      "List(b): [array([8, 6]), array([4, 4]), array([6, 6])]\n",
      "tolist(): [[8, 6], [4, 4], [6, 6]]\n"
     ]
    }
   ],
   "source": [
    "#1. [簡答題] 請問下列兩種將 Array 轉換成 List 的方式有何不同？\n",
    "#print('list(a): ', list(a)) => list(a) 只會把第一層的元素轉換成 List，多層的話只有第一層會轉\n",
    "#print('tolist(): ', a.tolist()) => tolist() 才能達成多層的型態轉換\n",
    "import numpy as np\n",
    "a = np.random.randint(10, size=6) \n",
    "print('List(a):', list(a))\n",
    "print('tolist():', a.tolist())\n",
    "\n",
    "b = np.random.randint(10, size=6).reshape(3, 2) \n",
    "print('List(b):', list(b))\n",
    "print('tolist():', b.tolist())\n"
   ]
  },
  {
   "cell_type": "code",
   "execution_count": 12,
   "metadata": {},
   "outputs": [
    {
     "name": "stdout",
     "output_type": "stream",
     "text": [
      "[7 8 9 1 9 8]\n",
      "1\n",
      "(6,)\n",
      "6\n",
      "int32\n",
      "4\n",
      "6\n",
      "<class 'numpy.ndarray'>\n"
     ]
    }
   ],
   "source": [
    "#2. 請試著在程式中印出以下三個 NdArray 的屬性並且解釋結果？（屬性：ndim、shape、size、dtype、itemsize、length、type）\n",
    "import numpy as np\n",
    "a = np.random.randint(10, size=6) \n",
    "print(a)\n",
    "print(a.ndim) #陣列有多少維度\n",
    "print(a.shape) #每個維度的大小\n",
    "print(a.size) #陣列當中有幾個元素\n",
    "print(a.dtype) #陣列中的資料型態\n",
    "print(a.itemsize) #陣列中每個元素佔用的空間\n",
    "print(len(a)) #陣列的長度\n",
    "print(type(a)) #陣列的類型"
   ]
  },
  {
   "cell_type": "code",
   "execution_count": 13,
   "metadata": {},
   "outputs": [
    {
     "name": "stdout",
     "output_type": "stream",
     "text": [
      "[[1 2 6 5]\n",
      " [0 8 8 4]\n",
      " [8 2 9 5]]\n",
      "2\n",
      "(3, 4)\n",
      "12\n",
      "int32\n",
      "4\n",
      "3\n",
      "<class 'numpy.ndarray'>\n"
     ]
    }
   ],
   "source": [
    "b = np.random.randint(10, size=(3,4)) \n",
    "\n",
    "print(b)\n",
    "print(b.ndim) #陣列有多少維度\n",
    "print(b.shape) #每個維度的大小\n",
    "print(b.size) #陣列當中有幾個元素\n",
    "print(b.dtype) #陣列中的資料型態\n",
    "print(b.itemsize) #陣列中每個元素佔用的空間\n",
    "print(len(b)) #陣列的長度\n",
    "print(type(b)) #陣列的類型"
   ]
  },
  {
   "cell_type": "code",
   "execution_count": 14,
   "metadata": {},
   "outputs": [
    {
     "name": "stdout",
     "output_type": "stream",
     "text": [
      "[[[8 8]\n",
      "  [9 3]\n",
      "  [2 2]]\n",
      "\n",
      " [[8 3]\n",
      "  [9 5]\n",
      "  [5 5]]]\n",
      "3\n",
      "(2, 3, 2)\n",
      "12\n",
      "int32\n",
      "4\n",
      "2\n",
      "<class 'numpy.ndarray'>\n"
     ]
    }
   ],
   "source": [
    "c = np.random.randint(10, size=(2,3,2))\n",
    "\n",
    "print(c)\n",
    "print(c.ndim) #陣列有多少維度\n",
    "print(c.shape) #每個維度的大小\n",
    "print(c.size) #陣列當中有幾個元素\n",
    "print(c.dtype) #陣列中的資料型態\n",
    "print(c.itemsize) #陣列中每個元素佔用的空間\n",
    "print(len(c)) #陣列的長度\n",
    "print(type(c)) #陣列的類型"
   ]
  },
  {
   "cell_type": "code",
   "execution_count": 15,
   "metadata": {},
   "outputs": [
    {
     "name": "stdout",
     "output_type": "stream",
     "text": [
      "[2, 6, 8, 9, 6, 2]\n",
      "[2, 6, 8, 9, 6, 2]\n"
     ]
    }
   ],
   "source": [
    "# 3. 如何利用 list(...) 實現 a.tolist() 的效果？試著用程式實作。\n",
    "a = np.random.randint(10, size=6) \n",
    "\n",
    "print(a.tolist())\n",
    "print(list(a))\n"
   ]
  },
  {
   "cell_type": "code",
   "execution_count": 16,
   "metadata": {},
   "outputs": [
    {
     "name": "stdout",
     "output_type": "stream",
     "text": [
      "[[9, 9, 1, 4], [1, 8, 3, 4], [7, 2, 3, 3]]\n",
      "[array([9, 9, 1, 4]), array([1, 8, 3, 4]), array([7, 2, 3, 3])]\n"
     ]
    }
   ],
   "source": [
    "b = np.random.randint(10, size=(3,4)) \n",
    "\n",
    "print(b.tolist())\n",
    "print(list(b))"
   ]
  },
  {
   "cell_type": "code",
   "execution_count": 5,
   "metadata": {},
   "outputs": [
    {
     "name": "stdout",
     "output_type": "stream",
     "text": [
      "[[[8, 7], [8, 5], [3, 3]], [[6, 5], [8, 8], [1, 8]]]\n",
      "[array([[8, 7],\n",
      "       [8, 5],\n",
      "       [3, 3]]), array([[6, 5],\n",
      "       [8, 8],\n",
      "       [1, 8]])]\n"
     ]
    }
   ],
   "source": [
    "c = np.random.randint(10, size=(2,3,2))\n",
    "\n",
    "print(c.tolist())\n",
    "print(list(c))"
   ]
  },
  {
   "cell_type": "code",
   "execution_count": 7,
   "metadata": {},
   "outputs": [
    {
     "name": "stdout",
     "output_type": "stream",
     "text": [
      "[9, 7, 2, 8, 9, 7]\n",
      "[[8, 6], [4, 4], [6, 6]]\n",
      "[[[8, 7], [8, 5], [3, 3]], [[6, 5], [8, 8], [1, 8]]]\n",
      "[9, 7, 2, 8, 9, 7]\n",
      "[[8, 6], [4, 4], [6, 6]]\n",
      "[[[8, 7], [8, 5], [3, 3]], [[6, 5], [8, 8], [1, 8]]]\n"
     ]
    }
   ],
   "source": [
    "#way1\n",
    "def tolist(iterable):\n",
    "    if type(iterable) != np.ndarray:\n",
    "        return iterable\n",
    "    newlist = []\n",
    "    for obj in iterable:\n",
    "        newlist.append(tolist(obj))\n",
    "    return list(newlist)\n",
    "print(tolist(a))\n",
    "print(tolist(b))\n",
    "print(tolist(c))\n",
    "\n",
    "#way2\n",
    "def tolist(iterable):\n",
    "    if type(iterable) != np.ndarray:\n",
    "        return iterable\n",
    "    return [tolist(obj) for obj in iterable]\n",
    "\n",
    "print(tolist(a))\n",
    "print(tolist(b))\n",
    "print(tolist(c))"
   ]
  },
  {
   "cell_type": "code",
   "execution_count": null,
   "metadata": {},
   "outputs": [],
   "source": []
  }
 ],
 "metadata": {
  "kernelspec": {
   "display_name": "Python 3",
   "language": "python",
   "name": "python3"
  },
  "language_info": {
   "codemirror_mode": {
    "name": "ipython",
    "version": 3
   },
   "file_extension": ".py",
   "mimetype": "text/x-python",
   "name": "python",
   "nbconvert_exporter": "python",
   "pygments_lexer": "ipython3",
   "version": "3.7.6"
  }
 },
 "nbformat": 4,
 "nbformat_minor": 4
}
