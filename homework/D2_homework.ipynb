{
 "cells": [
  {
   "cell_type": "code",
   "execution_count": 6,
   "metadata": {},
   "outputs": [
    {
     "name": "stdout",
     "output_type": "stream",
     "text": [
      "type(a):  <class 'numpy.ndarray'>\n",
      "a.dtype:  int32\n"
     ]
    }
   ],
   "source": [
    "#1.[簡答題] 請問 type(...) 跟 a.dtype 這兩個語法有什麼不同？\n",
    "import numpy as np\n",
    "a = np.random.randint(10, size = 6)\n",
    "print('type(a): ', type(a)) #回傳a變數的型態\n",
    "print('a.dtype: ', a.dtype) #回傳a陣列中的元素型態"
   ]
  },
  {
   "cell_type": "code",
   "execution_count": 9,
   "metadata": {},
   "outputs": [
    {
     "name": "stdout",
     "output_type": "stream",
     "text": [
      "True\n",
      "True\n",
      "True\n"
     ]
    }
   ],
   "source": [
    "#2. 請撰寫一個判斷 a 的元素是否等於指定資料型態的函式，並且通過測試。\n",
    "def is_dtype(a, t):\n",
    "    return a.dtype is np.dtype(t)\n",
    "\n",
    "print(is_dtype(a, 'int')) \n",
    "print(is_dtype(a, np.int)) \n",
    "print(is_dtype(a, np.dtype('int'))) "
   ]
  },
  {
   "cell_type": "code",
   "execution_count": null,
   "metadata": {},
   "outputs": [],
   "source": [
    "#3. [簡答題] 承上題，請判斷下列三種寫法為何不正確？\n",
    "\"\"\"\n",
    "def is_dtype(a, t):\n",
    "    return a.dtype is t\n",
    "\n",
    "def is_dtype(a, t):\n",
    "    return type(a) == np.dtype(t)\n",
    "\n",
    "def is_dtype(a, t):\n",
    "    return type(a) is np.dtype(t)\n",
    "\"\"\"\n",
    "# 1. is較嚴格要型態也對才是true\n",
    "2.type回傳變數型態而不是陣列元素型態"
   ]
  }
 ],
 "metadata": {
  "kernelspec": {
   "display_name": "Python 3",
   "language": "python",
   "name": "python3"
  },
  "language_info": {
   "codemirror_mode": {
    "name": "ipython",
    "version": 3
   },
   "file_extension": ".py",
   "mimetype": "text/x-python",
   "name": "python",
   "nbconvert_exporter": "python",
   "pygments_lexer": "ipython3",
   "version": "3.7.6"
  }
 },
 "nbformat": 4,
 "nbformat_minor": 4
}
