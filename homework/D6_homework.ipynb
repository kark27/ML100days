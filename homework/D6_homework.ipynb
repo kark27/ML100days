{
 "cells": [
  {
   "cell_type": "code",
   "execution_count": 3,
   "metadata": {},
   "outputs": [
    {
     "name": "stdout",
     "output_type": "stream",
     "text": [
      "15\n",
      "15\n",
      "15\n"
     ]
    }
   ],
   "source": [
    "#[簡答題] 請問下列這三種方法有什麼不同？\n",
    "import numpy as np\n",
    "\n",
    "a = np.arange(6)\n",
    "\n",
    "print(a.sum())\n",
    "print(np.sum(a))\n",
    "print(sum(a)) \n",
    "#a.sum() & np.sum(a)是Numpy裡的函式 sum(a)是python裡的函式"
   ]
  },
  {
   "cell_type": "code",
   "execution_count": 21,
   "metadata": {
    "scrolled": true
   },
   "outputs": [
    {
     "name": "stdout",
     "output_type": "stream",
     "text": [
      "[[0.42676494 0.15125641 0.87864881 0.12012535 0.77952541]\n",
      " [0.65652726 0.12509642 0.46923471 0.20622638 0.18771002]\n",
      " [0.13316005 0.0235152  0.71867091 0.97197496 0.10330662]\n",
      " [0.9904535  0.11660322 0.74749298 0.54781415 0.82658056]\n",
      " [0.65226171 0.47790225 0.15433514 0.70974202 0.36168154]]\n",
      "[[0.41703771 0.13210895 0.88437246 0.09991346 0.78185982]\n",
      " [0.6546561  0.10505449 0.46095961 0.18895847 0.169809  ]\n",
      " [0.11339384 0.         0.71892457 0.98088963 0.08251966]\n",
      " [1.         0.0962709  0.74873213 0.54222585 0.83052389]\n",
      " [0.6502447  0.46992352 0.13529295 0.70969039 0.34972898]]\n"
     ]
    }
   ],
   "source": [
    "#請對一個 5x5 的隨機矩陣作正規化的操作。(全部轉換成0~1之間)\n",
    "import numpy as np\n",
    "b = np.random.random((5, 5))\n",
    "print(b)\n",
    "b = (b - b.min()) / (b.max() - b.min())\n",
    "print(b)\n"
   ]
  },
  {
   "cell_type": "code",
   "execution_count": 27,
   "metadata": {},
   "outputs": [
    {
     "name": "stdout",
     "output_type": "stream",
     "text": [
      "[ 5 69 86 91 48 55 35  1 57 70]\n",
      "[ 5 69 86 -1 48 55 35  1 57 70]\n"
     ]
    }
   ],
   "source": [
    "#請建立一個長度等於 10 的正整數向量，並且將其中的最大值改成 -1。\n",
    "import numpy as np\n",
    "c = np.random.randint(100, size = 10)\n",
    "print(c)\n",
    "c[c.argmax()] = -1\n",
    "print(c)"
   ]
  },
  {
   "cell_type": "code",
   "execution_count": null,
   "metadata": {},
   "outputs": [],
   "source": []
  }
 ],
 "metadata": {
  "kernelspec": {
   "display_name": "Python 3",
   "language": "python",
   "name": "python3"
  },
  "language_info": {
   "codemirror_mode": {
    "name": "ipython",
    "version": 3
   },
   "file_extension": ".py",
   "mimetype": "text/x-python",
   "name": "python",
   "nbconvert_exporter": "python",
   "pygments_lexer": "ipython3",
   "version": "3.7.6"
  }
 },
 "nbformat": 4,
 "nbformat_minor": 4
}
